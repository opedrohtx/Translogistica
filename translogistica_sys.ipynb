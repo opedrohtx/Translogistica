{
  "nbformat": 4,
  "nbformat_minor": 0,
  "metadata": {
    "colab": {
      "provenance": [],
      "include_colab_link": true
    },
    "kernelspec": {
      "name": "python3",
      "display_name": "Python 3"
    },
    "language_info": {
      "name": "python"
    }
  },
  "cells": [
    {
      "cell_type": "markdown",
      "metadata": {
        "id": "view-in-github",
        "colab_type": "text"
      },
      "source": [
        "<a href=\"https://colab.research.google.com/github/opedrohtx/Translogistica/blob/main/translogistica_sys.ipynb\" target=\"_parent\"><img src=\"https://colab.research.google.com/assets/colab-badge.svg\" alt=\"Open In Colab\"/></a>"
      ]
    },
    {
      "cell_type": "markdown",
      "source": [
        "##**Instalando  a biblioteca Gspread**"
      ],
      "metadata": {
        "id": "bBpkxfdus1Vl"
      }
    },
    {
      "cell_type": "code",
      "execution_count": null,
      "metadata": {
        "colab": {
          "base_uri": "https://localhost:8080/"
        },
        "id": "ndAuGRyHnWKW",
        "outputId": "85c964cb-b3e0-491a-bb71-6289dc6eacf7"
      },
      "outputs": [
        {
          "output_type": "stream",
          "name": "stdout",
          "text": [
            "Requirement already satisfied: gspread in /usr/local/lib/python3.10/dist-packages (6.0.2)\n",
            "Collecting gspread\n",
            "  Downloading gspread-6.1.4-py3-none-any.whl.metadata (11 kB)\n",
            "Requirement already satisfied: google-auth>=1.12.0 in /usr/local/lib/python3.10/dist-packages (from gspread) (2.27.0)\n",
            "Requirement already satisfied: google-auth-oauthlib>=0.4.1 in /usr/local/lib/python3.10/dist-packages (from gspread) (1.2.1)\n",
            "Requirement already satisfied: cachetools<6.0,>=2.0.0 in /usr/local/lib/python3.10/dist-packages (from google-auth>=1.12.0->gspread) (5.5.0)\n",
            "Requirement already satisfied: pyasn1-modules>=0.2.1 in /usr/local/lib/python3.10/dist-packages (from google-auth>=1.12.0->gspread) (0.4.1)\n",
            "Requirement already satisfied: rsa<5,>=3.1.4 in /usr/local/lib/python3.10/dist-packages (from google-auth>=1.12.0->gspread) (4.9)\n",
            "Requirement already satisfied: requests-oauthlib>=0.7.0 in /usr/local/lib/python3.10/dist-packages (from google-auth-oauthlib>=0.4.1->gspread) (1.3.1)\n",
            "Requirement already satisfied: pyasn1<0.7.0,>=0.4.6 in /usr/local/lib/python3.10/dist-packages (from pyasn1-modules>=0.2.1->google-auth>=1.12.0->gspread) (0.6.1)\n",
            "Requirement already satisfied: oauthlib>=3.0.0 in /usr/local/lib/python3.10/dist-packages (from requests-oauthlib>=0.7.0->google-auth-oauthlib>=0.4.1->gspread) (3.2.2)\n",
            "Requirement already satisfied: requests>=2.0.0 in /usr/local/lib/python3.10/dist-packages (from requests-oauthlib>=0.7.0->google-auth-oauthlib>=0.4.1->gspread) (2.32.3)\n",
            "Requirement already satisfied: charset-normalizer<4,>=2 in /usr/local/lib/python3.10/dist-packages (from requests>=2.0.0->requests-oauthlib>=0.7.0->google-auth-oauthlib>=0.4.1->gspread) (3.4.0)\n",
            "Requirement already satisfied: idna<4,>=2.5 in /usr/local/lib/python3.10/dist-packages (from requests>=2.0.0->requests-oauthlib>=0.7.0->google-auth-oauthlib>=0.4.1->gspread) (3.10)\n",
            "Requirement already satisfied: urllib3<3,>=1.21.1 in /usr/local/lib/python3.10/dist-packages (from requests>=2.0.0->requests-oauthlib>=0.7.0->google-auth-oauthlib>=0.4.1->gspread) (2.2.3)\n",
            "Requirement already satisfied: certifi>=2017.4.17 in /usr/local/lib/python3.10/dist-packages (from requests>=2.0.0->requests-oauthlib>=0.7.0->google-auth-oauthlib>=0.4.1->gspread) (2024.8.30)\n",
            "Downloading gspread-6.1.4-py3-none-any.whl (57 kB)\n",
            "\u001b[2K   \u001b[90m━━━━━━━━━━━━━━━━━━━━━━━━━━━━━━━━━━━━━━━━\u001b[0m \u001b[32m57.6/57.6 kB\u001b[0m \u001b[31m2.8 MB/s\u001b[0m eta \u001b[36m0:00:00\u001b[0m\n",
            "\u001b[?25hInstalling collected packages: gspread\n",
            "  Attempting uninstall: gspread\n",
            "    Found existing installation: gspread 6.0.2\n",
            "    Uninstalling gspread-6.0.2:\n",
            "      Successfully uninstalled gspread-6.0.2\n",
            "Successfully installed gspread-6.1.4\n"
          ]
        }
      ],
      "source": [
        "#Instalando a Biblioteca Gspread (Responsável pela conexão com o google Planilhas)\n",
        "!pip install --upgrade gspread"
      ]
    },
    {
      "cell_type": "markdown",
      "source": [
        "##**IMPORT**"
      ],
      "metadata": {
        "id": "S4n0mzEQtiFN"
      }
    },
    {
      "cell_type": "code",
      "source": [
        "import gspread #importa a biblioteca gspread para a conexão com o Google Planilhas\n",
        "from tabulate import tabulate #importa a biblioteca tabulate para formatação de tabelas\n",
        "from google.auth import default #importa a biblioteca google.auth para autenticação no Google\n",
        "from google.colab import auth #importa a biblioteca google.colab para autenticação no Google Colab\n",
        "from google.colab import output\n",
        "\n",
        "auth.authenticate_user() #autentica o usuário no Google Colab\n",
        "creds, _ = default() #pega as credenciais do usuário de forma padrão\n",
        "\n",
        "usuario = gspread.authorize(creds) #Variavel usuario recebe a autorição com a autenticação\n",
        "\n",
        "#abrindo planilha para utilizar no código\n",
        "spreadsheet = usuario.open('translogistica.sys') #variavel responsavel por abrir a planilha 'sys_cadastro'\n",
        "cad_viagem = spreadsheet.get_worksheet(0) #variavel responsavel por pegar a primeira aba da planilha\n",
        "cad_moto = spreadsheet.get_worksheet(1) #variavel responsavel por pegar a segunda aba da planilha\n",
        "cods = spreadsheet.get_worksheet(2) #variavel responsavel por pegar a terceira aba da planilha\n",
        "\n",
        "import time\n",
        "tipo_combustivel = {\n",
        "    \"Diesel\" : float(1 * 2.40),\n",
        "    \"Gasolina\" : float(1 * 2.95),\n",
        "    \"Alcool\" : float(1 * 1.90)\n",
        "}\n",
        "\n",
        "from datetime import datetime\n",
        "data_atual = datetime.today()\n",
        "data_formatada = data_atual.strftime(\"%d/%m/%Y\")"
      ],
      "metadata": {
        "id": "N9k1YgGDtiw8"
      },
      "execution_count": null,
      "outputs": []
    },
    {
      "cell_type": "markdown",
      "source": [
        "##**ÁREA DE DADOS**"
      ],
      "metadata": {
        "id": "RgQgGc5_t9ws"
      }
    },
    {
      "cell_type": "markdown",
      "source": [
        "CADASTRO DE VIAGEM INICIAL"
      ],
      "metadata": {
        "id": "HBGFDoYGuAis"
      }
    },
    {
      "cell_type": "code",
      "source": [
        "def cadastro_inicial():\n",
        "  dados = cad_viagem.get_all_values()\n",
        "  if len(dados) == 0:\n",
        "    codigo = int(cods.cell(2,1).value)\n",
        "  else:\n",
        "    codigo = int(cods.cell(2,1).value) + 1\n",
        "    from datetime import datetime\n",
        "    data_atual = datetime.today()\n",
        "    data_formatada = data_atual.strftime(\"%d/%m/%Y\")\n",
        "\n",
        "  data = data_formatada\n",
        "  hora_viagem = input(\"Digite a hora de começo da viagem: \")\n",
        "  tipo_veiculo = input(\"Digite o tipo de veículo: \")\n",
        "  tipo_combustivel = input(\"Digite o tipo de combustível: \")\n",
        "  placa_veiculo = input(\"Digite a placa do veículo: \")\n",
        "  nome = input(\"Digite o nome do motorista: \")\n",
        "  odometro_ini = input(\"Digite o odômetro inicial: \")\n",
        "  destino = input(\"Digite o destino: \")\n",
        "\n",
        "  nova_linha = [codigo, data, hora_viagem, tipo_veiculo, tipo_combustivel, placa_veiculo, nome, odometro_ini, destino]\n",
        "\n",
        "  cad_viagem.append_row(nova_linha)\n",
        "  cods.update_cell(2,1, codigo)\n",
        "  nova_linha1 = [tipo_veiculo, placa_veiculo, nome, tipo_combustivel,]\n",
        "  cad_moto.append_row(nova_linha1)\n",
        "  print(\"Registro adicionado com sucesso!\")\n",
        "\n",
        "  print(\"O seu codigo de viagem e\", codigo)\n"
      ],
      "metadata": {
        "id": "x_k5aYT4uHv0"
      },
      "execution_count": null,
      "outputs": []
    },
    {
      "cell_type": "markdown",
      "source": [
        "CADASTRO DE VIAGEM FINAL"
      ],
      "metadata": {
        "id": "osuRn4gruIGM"
      }
    },
    {
      "cell_type": "code",
      "source": [
        "def cadastro_final():\n",
        "  codigo = input(\"Digite a codigo de cadastro: \")\n",
        "  celula = cad_viagem.find(codigo)\n",
        "\n",
        "  if celula:\n",
        "    coluna = celula.col\n",
        "    linha = celula.row\n",
        "\n",
        "  odometro_inicial = cad_viagem.cell(linha, 8).value\n",
        "  hora_viagem = cad_viagem.cell(linha, 3).value.replace(':','.')\n",
        "  if odometro_inicial is None:\n",
        "    odometro_inicial = 0\n",
        "  odometro_final = input(\"Digite o odometro final da viagem: \")\n",
        "  quilometragem_percorrida = int(odometro_final) - int(odometro_inicial)\n",
        "\n",
        "  tipo_combustivell = input(\"Digite o combustível (Diesel, Gasolina, Alcool): \")\n",
        "  preco_combustivel = tipo_combustivel.get(tipo_combustivell)\n",
        "  if preco_combustivel is None:\n",
        "    print(\"Tipo de combustível invalido.\")\n",
        "    return\n",
        "\n",
        "  valor_gasto = int(quilometragem_percorrida) * preco_combustivel\n",
        "\n",
        "\n",
        "  hora_chegada = input(\"Digite a hora de chegada: \").replace(':','.')\n",
        "  tempo_total = float(hora_chegada) - float(hora_viagem)\n",
        "\n",
        "\n",
        "\n",
        "\n",
        "  cad_viagem.update_cell(linha, 12, valor_gasto)\n",
        "  cad_viagem.update_cell(linha, 10, odometro_final)\n",
        "  cad_viagem.update_cell(linha, 11, quilometragem_percorrida)\n",
        "  cad_viagem.update_cell(linha, 13, hora_chegada)\n",
        "  cad_viagem.update_cell(linha, 14, tempo_total)\n",
        "  print(\"Registro atualizado com sucesso!\")"
      ],
      "metadata": {
        "id": "qWja1wvKuQOV"
      },
      "execution_count": null,
      "outputs": []
    },
    {
      "cell_type": "markdown",
      "source": [
        "LISTAR REGISTRO"
      ],
      "metadata": {
        "id": "wLudwgka5BlD"
      }
    },
    {
      "cell_type": "code",
      "source": [
        "def listar_registros():\n",
        "  dados = cad_viagem.get_all_values()\n",
        "  tabela = tabulate(dados, headers=[], tablefmt=\"rounded_grid\", stralign=\"center\")\n",
        "  print(tabela)\n"
      ],
      "metadata": {
        "id": "WOcMKbHv5CqU"
      },
      "execution_count": null,
      "outputs": []
    },
    {
      "cell_type": "markdown",
      "source": [
        "##**MENU**"
      ],
      "metadata": {
        "id": "lai82DGvIpXB"
      }
    },
    {
      "cell_type": "code",
      "source": [
        "while True:\n",
        "\n",
        "  print(\"MENU\")\n",
        "  print(\"1 - Cadastro inicial\")\n",
        "  print(\"2 - Cadastro final\")\n",
        "  print(\"3 - Listar\")\n",
        "  print(\"4 - Sair\")\n",
        "  opcao = float(input(\"Digite a opção desejada: \"))\n",
        "\n",
        "#Função para cadastrar viagem\n",
        "  if opcao == 1:\n",
        "    cadastro_inicial()\n",
        "    input(\"Pressione qualquer tecla para continuar...\")\n",
        "    time.sleep(3)\n",
        "    output.clear()\n",
        "\n",
        "#Função para finalizar viagem\n",
        "  elif opcao == 2:\n",
        "    cadastro_final()\n",
        "    input(\"Pressione qualquer tecla para continuar...\")\n",
        "    output.clear()\n",
        "\n",
        "\n",
        "#Função para listar viagens\n",
        "  elif opcao == 3:\n",
        "    listar_registros()\n",
        "    input(\"Pressione qualquer tecla para continuar...\")\n",
        "    output.clear()\n",
        "\n",
        "#Função para sair do programa\n",
        "  elif opcao == 4:\n",
        "    print(\"Saindo...\")\n",
        "    break\n",
        "\n",
        "  else:\n",
        "    print(\"Opção inválida!\")\n",
        "    input(\"Pressione qualquer tecla para continuar...\")"
      ],
      "metadata": {
        "colab": {
          "base_uri": "https://localhost:8080/"
        },
        "id": "hfxnbRE8IsCB",
        "outputId": "e8c29f2e-0907-4e90-f66b-12f5acee5988"
      },
      "execution_count": null,
      "outputs": [
        {
          "output_type": "stream",
          "name": "stdout",
          "text": [
            "MENU\n",
            "1 - Cadastro inicial\n",
            "2 - Cadastro final\n",
            "3 - Listar\n",
            "4 - Sair\n",
            "Digite a opção desejada: 4\n",
            "Saindo...\n"
          ]
        }
      ]
    }
  ]
}